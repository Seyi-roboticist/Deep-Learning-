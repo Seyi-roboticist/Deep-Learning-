{
  "nbformat": 4,
  "nbformat_minor": 0,
  "metadata": {
    "colab": {
      "provenance": []
    },
    "kernelspec": {
      "display_name": "Python 3",
      "language": "python",
      "name": "python3"
    },
    "language_info": {
      "codemirror_mode": {
        "name": "ipython",
        "version": 3
      },
      "file_extension": ".py",
      "mimetype": "text/x-python",
      "name": "python",
      "nbconvert_exporter": "python",
      "pygments_lexer": "ipython3",
      "version": "3.7.9"
    }
  },
  "cells": [
    {
      "cell_type": "markdown",
      "source": [
        "# Author: Seyi R. Afolayan\n",
        "## Credits: Andrej Karpathy"
      ],
      "metadata": {
        "id": "kPzbBAFXWx1A"
      }
    },
    {
      "cell_type": "markdown",
      "metadata": {
        "id": "06bnDgIYNrim"
      },
      "source": [
        "# Homework 2: Programming\n",
        "\n",
        "The following notebook contains skeleton-code for answering problems 2 and 3 of homework assignment 2. Please read through each cell carefully to understand what is expected to be implemented. For your final submission, please try to clean up any intermediate outputs used for debugging."
      ]
    },
    {
      "cell_type": "markdown",
      "metadata": {
        "id": "scoOJkUyNrin"
      },
      "source": [
        "### Imports\n",
        "\n",
        "You should be able to complete the entire assignment using only the following imports. Please consult the course staff if you are unsure about whether additional packages may be used."
      ]
    },
    {
      "cell_type": "markdown",
      "source": [],
      "metadata": {
        "id": "p7lcOGMeWtvU"
      }
    },
    {
      "cell_type": "code",
      "metadata": {
        "id": "9vllQSx4E9oP",
        "colab": {
          "base_uri": "https://localhost:8080/",
          "height": 69
        },
        "outputId": "c7c8a771-20e5-4d3e-a275-a1384c5c8e2a"
      },
      "source": [
        "## Import Packages\n",
        "import random\n",
        "import numpy as np\n",
        "import matplotlib.pyplot as plt\n",
        "# Uploading the file\n",
        "from google.colab import files\n",
        "uploaded = files.upload()"
      ],
      "execution_count": null,
      "outputs": [
        {
          "output_type": "display_data",
          "data": {
            "text/plain": [
              "<IPython.core.display.HTML object>"
            ],
            "text/html": [
              "\n",
              "     <input type=\"file\" id=\"files-cadc995f-b1f4-48a0-b4e6-1b9993dcc6fb\" name=\"files[]\" multiple disabled\n",
              "        style=\"border:none\" />\n",
              "     <output id=\"result-cadc995f-b1f4-48a0-b4e6-1b9993dcc6fb\">\n",
              "      Upload widget is only available when the cell has been executed in the\n",
              "      current browser session. Please rerun this cell to enable.\n",
              "      </output>\n",
              "      <script>// Copyright 2017 Google LLC\n",
              "//\n",
              "// Licensed under the Apache License, Version 2.0 (the \"License\");\n",
              "// you may not use this file except in compliance with the License.\n",
              "// You may obtain a copy of the License at\n",
              "//\n",
              "//      http://www.apache.org/licenses/LICENSE-2.0\n",
              "//\n",
              "// Unless required by applicable law or agreed to in writing, software\n",
              "// distributed under the License is distributed on an \"AS IS\" BASIS,\n",
              "// WITHOUT WARRANTIES OR CONDITIONS OF ANY KIND, either express or implied.\n",
              "// See the License for the specific language governing permissions and\n",
              "// limitations under the License.\n",
              "\n",
              "/**\n",
              " * @fileoverview Helpers for google.colab Python module.\n",
              " */\n",
              "(function(scope) {\n",
              "function span(text, styleAttributes = {}) {\n",
              "  const element = document.createElement('span');\n",
              "  element.textContent = text;\n",
              "  for (const key of Object.keys(styleAttributes)) {\n",
              "    element.style[key] = styleAttributes[key];\n",
              "  }\n",
              "  return element;\n",
              "}\n",
              "\n",
              "// Max number of bytes which will be uploaded at a time.\n",
              "const MAX_PAYLOAD_SIZE = 100 * 1024;\n",
              "\n",
              "function _uploadFiles(inputId, outputId) {\n",
              "  const steps = uploadFilesStep(inputId, outputId);\n",
              "  const outputElement = document.getElementById(outputId);\n",
              "  // Cache steps on the outputElement to make it available for the next call\n",
              "  // to uploadFilesContinue from Python.\n",
              "  outputElement.steps = steps;\n",
              "\n",
              "  return _uploadFilesContinue(outputId);\n",
              "}\n",
              "\n",
              "// This is roughly an async generator (not supported in the browser yet),\n",
              "// where there are multiple asynchronous steps and the Python side is going\n",
              "// to poll for completion of each step.\n",
              "// This uses a Promise to block the python side on completion of each step,\n",
              "// then passes the result of the previous step as the input to the next step.\n",
              "function _uploadFilesContinue(outputId) {\n",
              "  const outputElement = document.getElementById(outputId);\n",
              "  const steps = outputElement.steps;\n",
              "\n",
              "  const next = steps.next(outputElement.lastPromiseValue);\n",
              "  return Promise.resolve(next.value.promise).then((value) => {\n",
              "    // Cache the last promise value to make it available to the next\n",
              "    // step of the generator.\n",
              "    outputElement.lastPromiseValue = value;\n",
              "    return next.value.response;\n",
              "  });\n",
              "}\n",
              "\n",
              "/**\n",
              " * Generator function which is called between each async step of the upload\n",
              " * process.\n",
              " * @param {string} inputId Element ID of the input file picker element.\n",
              " * @param {string} outputId Element ID of the output display.\n",
              " * @return {!Iterable<!Object>} Iterable of next steps.\n",
              " */\n",
              "function* uploadFilesStep(inputId, outputId) {\n",
              "  const inputElement = document.getElementById(inputId);\n",
              "  inputElement.disabled = false;\n",
              "\n",
              "  const outputElement = document.getElementById(outputId);\n",
              "  outputElement.innerHTML = '';\n",
              "\n",
              "  const pickedPromise = new Promise((resolve) => {\n",
              "    inputElement.addEventListener('change', (e) => {\n",
              "      resolve(e.target.files);\n",
              "    });\n",
              "  });\n",
              "\n",
              "  const cancel = document.createElement('button');\n",
              "  inputElement.parentElement.appendChild(cancel);\n",
              "  cancel.textContent = 'Cancel upload';\n",
              "  const cancelPromise = new Promise((resolve) => {\n",
              "    cancel.onclick = () => {\n",
              "      resolve(null);\n",
              "    };\n",
              "  });\n",
              "\n",
              "  // Wait for the user to pick the files.\n",
              "  const files = yield {\n",
              "    promise: Promise.race([pickedPromise, cancelPromise]),\n",
              "    response: {\n",
              "      action: 'starting',\n",
              "    }\n",
              "  };\n",
              "\n",
              "  cancel.remove();\n",
              "\n",
              "  // Disable the input element since further picks are not allowed.\n",
              "  inputElement.disabled = true;\n",
              "\n",
              "  if (!files) {\n",
              "    return {\n",
              "      response: {\n",
              "        action: 'complete',\n",
              "      }\n",
              "    };\n",
              "  }\n",
              "\n",
              "  for (const file of files) {\n",
              "    const li = document.createElement('li');\n",
              "    li.append(span(file.name, {fontWeight: 'bold'}));\n",
              "    li.append(span(\n",
              "        `(${file.type || 'n/a'}) - ${file.size} bytes, ` +\n",
              "        `last modified: ${\n",
              "            file.lastModifiedDate ? file.lastModifiedDate.toLocaleDateString() :\n",
              "                                    'n/a'} - `));\n",
              "    const percent = span('0% done');\n",
              "    li.appendChild(percent);\n",
              "\n",
              "    outputElement.appendChild(li);\n",
              "\n",
              "    const fileDataPromise = new Promise((resolve) => {\n",
              "      const reader = new FileReader();\n",
              "      reader.onload = (e) => {\n",
              "        resolve(e.target.result);\n",
              "      };\n",
              "      reader.readAsArrayBuffer(file);\n",
              "    });\n",
              "    // Wait for the data to be ready.\n",
              "    let fileData = yield {\n",
              "      promise: fileDataPromise,\n",
              "      response: {\n",
              "        action: 'continue',\n",
              "      }\n",
              "    };\n",
              "\n",
              "    // Use a chunked sending to avoid message size limits. See b/62115660.\n",
              "    let position = 0;\n",
              "    do {\n",
              "      const length = Math.min(fileData.byteLength - position, MAX_PAYLOAD_SIZE);\n",
              "      const chunk = new Uint8Array(fileData, position, length);\n",
              "      position += length;\n",
              "\n",
              "      const base64 = btoa(String.fromCharCode.apply(null, chunk));\n",
              "      yield {\n",
              "        response: {\n",
              "          action: 'append',\n",
              "          file: file.name,\n",
              "          data: base64,\n",
              "        },\n",
              "      };\n",
              "\n",
              "      let percentDone = fileData.byteLength === 0 ?\n",
              "          100 :\n",
              "          Math.round((position / fileData.byteLength) * 100);\n",
              "      percent.textContent = `${percentDone}% done`;\n",
              "\n",
              "    } while (position < fileData.byteLength);\n",
              "  }\n",
              "\n",
              "  // All done.\n",
              "  yield {\n",
              "    response: {\n",
              "      action: 'complete',\n",
              "    }\n",
              "  };\n",
              "}\n",
              "\n",
              "scope.google = scope.google || {};\n",
              "scope.google.colab = scope.google.colab || {};\n",
              "scope.google.colab._files = {\n",
              "  _uploadFiles,\n",
              "  _uploadFilesContinue,\n",
              "};\n",
              "})(self);\n",
              "</script> "
            ]
          },
          "metadata": {}
        },
        {
          "output_type": "stream",
          "name": "stdout",
          "text": [
            "Saving Q3_data.npz to Q3_data.npz\n"
          ]
        }
      ]
    },
    {
      "cell_type": "code",
      "source": [
        "from google.colab import files\n",
        "uploaded = files.upload()"
      ],
      "metadata": {
        "colab": {
          "base_uri": "https://localhost:8080/",
          "height": 69
        },
        "id": "IjkcpGJ7bVr3",
        "outputId": "1c8f2d5d-3d25-4b26-abd8-4cdf904ae616"
      },
      "execution_count": null,
      "outputs": [
        {
          "output_type": "display_data",
          "data": {
            "text/plain": [
              "<IPython.core.display.HTML object>"
            ],
            "text/html": [
              "\n",
              "     <input type=\"file\" id=\"files-698f639a-a883-4749-ad25-d318abd08773\" name=\"files[]\" multiple disabled\n",
              "        style=\"border:none\" />\n",
              "     <output id=\"result-698f639a-a883-4749-ad25-d318abd08773\">\n",
              "      Upload widget is only available when the cell has been executed in the\n",
              "      current browser session. Please rerun this cell to enable.\n",
              "      </output>\n",
              "      <script>// Copyright 2017 Google LLC\n",
              "//\n",
              "// Licensed under the Apache License, Version 2.0 (the \"License\");\n",
              "// you may not use this file except in compliance with the License.\n",
              "// You may obtain a copy of the License at\n",
              "//\n",
              "//      http://www.apache.org/licenses/LICENSE-2.0\n",
              "//\n",
              "// Unless required by applicable law or agreed to in writing, software\n",
              "// distributed under the License is distributed on an \"AS IS\" BASIS,\n",
              "// WITHOUT WARRANTIES OR CONDITIONS OF ANY KIND, either express or implied.\n",
              "// See the License for the specific language governing permissions and\n",
              "// limitations under the License.\n",
              "\n",
              "/**\n",
              " * @fileoverview Helpers for google.colab Python module.\n",
              " */\n",
              "(function(scope) {\n",
              "function span(text, styleAttributes = {}) {\n",
              "  const element = document.createElement('span');\n",
              "  element.textContent = text;\n",
              "  for (const key of Object.keys(styleAttributes)) {\n",
              "    element.style[key] = styleAttributes[key];\n",
              "  }\n",
              "  return element;\n",
              "}\n",
              "\n",
              "// Max number of bytes which will be uploaded at a time.\n",
              "const MAX_PAYLOAD_SIZE = 100 * 1024;\n",
              "\n",
              "function _uploadFiles(inputId, outputId) {\n",
              "  const steps = uploadFilesStep(inputId, outputId);\n",
              "  const outputElement = document.getElementById(outputId);\n",
              "  // Cache steps on the outputElement to make it available for the next call\n",
              "  // to uploadFilesContinue from Python.\n",
              "  outputElement.steps = steps;\n",
              "\n",
              "  return _uploadFilesContinue(outputId);\n",
              "}\n",
              "\n",
              "// This is roughly an async generator (not supported in the browser yet),\n",
              "// where there are multiple asynchronous steps and the Python side is going\n",
              "// to poll for completion of each step.\n",
              "// This uses a Promise to block the python side on completion of each step,\n",
              "// then passes the result of the previous step as the input to the next step.\n",
              "function _uploadFilesContinue(outputId) {\n",
              "  const outputElement = document.getElementById(outputId);\n",
              "  const steps = outputElement.steps;\n",
              "\n",
              "  const next = steps.next(outputElement.lastPromiseValue);\n",
              "  return Promise.resolve(next.value.promise).then((value) => {\n",
              "    // Cache the last promise value to make it available to the next\n",
              "    // step of the generator.\n",
              "    outputElement.lastPromiseValue = value;\n",
              "    return next.value.response;\n",
              "  });\n",
              "}\n",
              "\n",
              "/**\n",
              " * Generator function which is called between each async step of the upload\n",
              " * process.\n",
              " * @param {string} inputId Element ID of the input file picker element.\n",
              " * @param {string} outputId Element ID of the output display.\n",
              " * @return {!Iterable<!Object>} Iterable of next steps.\n",
              " */\n",
              "function* uploadFilesStep(inputId, outputId) {\n",
              "  const inputElement = document.getElementById(inputId);\n",
              "  inputElement.disabled = false;\n",
              "\n",
              "  const outputElement = document.getElementById(outputId);\n",
              "  outputElement.innerHTML = '';\n",
              "\n",
              "  const pickedPromise = new Promise((resolve) => {\n",
              "    inputElement.addEventListener('change', (e) => {\n",
              "      resolve(e.target.files);\n",
              "    });\n",
              "  });\n",
              "\n",
              "  const cancel = document.createElement('button');\n",
              "  inputElement.parentElement.appendChild(cancel);\n",
              "  cancel.textContent = 'Cancel upload';\n",
              "  const cancelPromise = new Promise((resolve) => {\n",
              "    cancel.onclick = () => {\n",
              "      resolve(null);\n",
              "    };\n",
              "  });\n",
              "\n",
              "  // Wait for the user to pick the files.\n",
              "  const files = yield {\n",
              "    promise: Promise.race([pickedPromise, cancelPromise]),\n",
              "    response: {\n",
              "      action: 'starting',\n",
              "    }\n",
              "  };\n",
              "\n",
              "  cancel.remove();\n",
              "\n",
              "  // Disable the input element since further picks are not allowed.\n",
              "  inputElement.disabled = true;\n",
              "\n",
              "  if (!files) {\n",
              "    return {\n",
              "      response: {\n",
              "        action: 'complete',\n",
              "      }\n",
              "    };\n",
              "  }\n",
              "\n",
              "  for (const file of files) {\n",
              "    const li = document.createElement('li');\n",
              "    li.append(span(file.name, {fontWeight: 'bold'}));\n",
              "    li.append(span(\n",
              "        `(${file.type || 'n/a'}) - ${file.size} bytes, ` +\n",
              "        `last modified: ${\n",
              "            file.lastModifiedDate ? file.lastModifiedDate.toLocaleDateString() :\n",
              "                                    'n/a'} - `));\n",
              "    const percent = span('0% done');\n",
              "    li.appendChild(percent);\n",
              "\n",
              "    outputElement.appendChild(li);\n",
              "\n",
              "    const fileDataPromise = new Promise((resolve) => {\n",
              "      const reader = new FileReader();\n",
              "      reader.onload = (e) => {\n",
              "        resolve(e.target.result);\n",
              "      };\n",
              "      reader.readAsArrayBuffer(file);\n",
              "    });\n",
              "    // Wait for the data to be ready.\n",
              "    let fileData = yield {\n",
              "      promise: fileDataPromise,\n",
              "      response: {\n",
              "        action: 'continue',\n",
              "      }\n",
              "    };\n",
              "\n",
              "    // Use a chunked sending to avoid message size limits. See b/62115660.\n",
              "    let position = 0;\n",
              "    do {\n",
              "      const length = Math.min(fileData.byteLength - position, MAX_PAYLOAD_SIZE);\n",
              "      const chunk = new Uint8Array(fileData, position, length);\n",
              "      position += length;\n",
              "\n",
              "      const base64 = btoa(String.fromCharCode.apply(null, chunk));\n",
              "      yield {\n",
              "        response: {\n",
              "          action: 'append',\n",
              "          file: file.name,\n",
              "          data: base64,\n",
              "        },\n",
              "      };\n",
              "\n",
              "      let percentDone = fileData.byteLength === 0 ?\n",
              "          100 :\n",
              "          Math.round((position / fileData.byteLength) * 100);\n",
              "      percent.textContent = `${percentDone}% done`;\n",
              "\n",
              "    } while (position < fileData.byteLength);\n",
              "  }\n",
              "\n",
              "  // All done.\n",
              "  yield {\n",
              "    response: {\n",
              "      action: 'complete',\n",
              "    }\n",
              "  };\n",
              "}\n",
              "\n",
              "scope.google = scope.google || {};\n",
              "scope.google.colab = scope.google.colab || {};\n",
              "scope.google.colab._files = {\n",
              "  _uploadFiles,\n",
              "  _uploadFilesContinue,\n",
              "};\n",
              "})(self);\n",
              "</script> "
            ]
          },
          "metadata": {}
        },
        {
          "output_type": "stream",
          "name": "stdout",
          "text": [
            "Saving Q4_data.npz to Q4_data.npz\n"
          ]
        }
      ]
    },
    {
      "cell_type": "markdown",
      "metadata": {
        "id": "hJX0u5W1cZDc"
      },
      "source": [
        "## Question 2\n"
      ]
    },
    {
      "cell_type": "markdown",
      "metadata": {
        "id": "bGn3Fryvfrbu"
      },
      "source": [
        "Below we provide an AutoGrad class named `Value`. The basic idea is to store the existing computational map during the creation of each `Value`, and calculate the gradient using backpropagation when one of the `Value` calls `backward()` method.\n",
        "\n",
        "The `backward()` function will arange the computational graph and backpropagate the gradients. All you need to do is to implement all the operations with its corresponding `_backward` function. We have provided the `__add__` function (sum of two nodes) as an example to help get you started.\n",
        "\n",
        "This notebook is designed in a Object Oriented way, if you are not farmiliar with the Object Oriented Programming in Python, you can refer to:\n",
        "\n",
        "(1) https://realpython.com/python3-object-oriented-programming/\n",
        "\n",
        "(2) https://docs.python.org/3/tutorial/classes.html\n"
      ]
    },
    {
      "cell_type": "code",
      "metadata": {
        "id": "7saLrsq-5Wc6"
      },
      "source": [
        "class Value:\n",
        "\n",
        "    \"\"\"\n",
        "    Basic unit of storing a single scalar value and its gradient\n",
        "    \"\"\"\n",
        "\n",
        "    def __init__(self, data, _children=()):\n",
        "        \"\"\"\n",
        "\n",
        "        \"\"\"\n",
        "        self.data = data\n",
        "        self.grad = 0\n",
        "        self._prev = set(_children)\n",
        "        self._backward = lambda: None # Default function (e.g leaf node) that does nothing.\n",
        "\n",
        "    def __add__(self, other):\n",
        "        \"\"\"\n",
        "        Example implementation of a single class operation (addition)\n",
        "\n",
        "        Args:\n",
        "            other (Any): Node to add with the class\n",
        "\n",
        "        Returns:\n",
        "            out (callable): Function to referesh the gradient\n",
        "        \"\"\"\n",
        "        #Firstly, convert some default value type in python to Value\n",
        "        #Then do operations with two or more Value object\n",
        "        other = other if isinstance(other, Value) else Value(other)\n",
        "\n",
        "        #Secondly, create a new Value object which is the result of the operation\n",
        "        out = Value(self.data + other.data, (self, other))\n",
        "\n",
        "        #Thirdly, create a _backward function for the output object to refresh\n",
        "        # the gradient of its _childrens,\n",
        "        #Then assign this _backward function to the output object.\n",
        "        def _backward():\n",
        "            self.grad += out.grad * 1.0\n",
        "            other.grad += out.grad * 1.0\n",
        "        out._backward = _backward\n",
        "\n",
        "        return out\n",
        "\n",
        "    def __mul__(self, other):\n",
        "        \"\"\"\n",
        "        Multiplication operation (e.g. Value(3) * Value(2) = Value(6))\n",
        "        \"\"\"\n",
        "        #TODO implement multiplication operation\n",
        "        #Firstly, convert some default value type in python to Value\n",
        "        #Then do operations with two or more Value object\n",
        "        other = other if isinstance(other, Value) else Value(other)\n",
        "\n",
        "        # Creating the output of the multiplication Value object\n",
        "        out = Value(self.data * other.data, (self, other))\n",
        "\n",
        "        #Then assign this _backward function to the output object.\n",
        "        def _backward():\n",
        "            # In the mul case, we need to perform swaps and also accumulate the gradients\n",
        "            self.grad += other.data * out.grad\n",
        "            other.grad += self.data * out.grad\n",
        "        out._backward = _backward\n",
        "\n",
        "        return out\n",
        "\n",
        "    def __pow__(self, other):\n",
        "        \"\"\"\n",
        "        Power operation (e.g Value(3) ** 2 = Value(9))\n",
        "        \"\"\"\n",
        "        #TODO implement power operation, we don't need to convert the exponent to Value\n",
        "        assert isinstance(other, (int, float))\n",
        "\n",
        "        # Creating the output value\n",
        "        out = Value(self.data ** other, (self, )) # tuple of 1 child\n",
        "\n",
        "        # Similarly, we run the _backward here\n",
        "        def _backward():\n",
        "          # In the pow case, we can either recall or google the d(x^n)/dx\n",
        "          self.grad += (other * (self.data ** (other - 1))) * out.grad\n",
        "\n",
        "        out._backward = _backward\n",
        "\n",
        "        return out\n",
        "\n",
        "    def relu(self):\n",
        "        \"\"\"\n",
        "        ReLU activation function applied to the current Value\n",
        "        \"\"\"\n",
        "        #TODO implement the relu activation function for the value itself.\n",
        "        out = Value(0 if self.data < 0 else self.data, (self, ))\n",
        "\n",
        "        # Similarly, we run the backward function to determine the gradient (local and upstream grad)\n",
        "        def _backward():\n",
        "          self.grad += (out.data > 0) * out.grad\n",
        "\n",
        "        out._backward = _backward\n",
        "\n",
        "        return out\n",
        "\n",
        "\n",
        "    def exp(self):\n",
        "        \"\"\"\n",
        "        Exponentiate the current Value (e.g. e ^ Value(0) = Value(1))\n",
        "        \"\"\"\n",
        "        #TODO implement the exponential function for and treat the value as exponent.\n",
        "        #The base is natural e, you can use numpy to calculate the value of the exponential.\n",
        "\n",
        "        # Creating the output value for the exponential function\n",
        "        out = Value(np.exp(self.data), (self, ))\n",
        "\n",
        "        # Similarly, we run the backward function to determine the gradient (local and upstream grad)\n",
        "        def _backward():\n",
        "          self.grad += out.data * out.grad\n",
        "\n",
        "        out._backward = _backward\n",
        "        return out\n",
        "\n",
        "    def log(self):\n",
        "        \"\"\"\n",
        "        Take the natural logarithm (base e) of the current Value\n",
        "        \"\"\"\n",
        "        #TODO implement the logarithm function for and treat the value as exponent.\n",
        "        #The bottom number should be e, you can use numpy to calculate the value of the logarithm.\n",
        "\n",
        "        # We calculate the output of the logarithmic computation\n",
        "        out = Value(np.log(self.data), (self, ))\n",
        "\n",
        "        # Similarly, we define the backward fn -->  d(ln(x))/dx = 1/x\n",
        "        def _backward():\n",
        "          # Calculate the gradient\n",
        "          self.grad += (1 / self.data) * out.grad\n",
        "\n",
        "        out._backward = _backward\n",
        "        return out\n",
        "\n",
        "    def backward(self):\n",
        "        \"\"\"\n",
        "        Run backpropagation from the current Value\n",
        "        \"\"\"\n",
        "        #This function is called when you start backpropagation from this Value\n",
        "\n",
        "        #The gradient of this value is initialized to 1 for you.\n",
        "        self.grad = 1 # This is what happens when we do something like df/df\n",
        "\n",
        "        #You need to find a right topological order all of the children in the graph.\n",
        "        #As for topology sort, you can refer to http://www.cs.cornell.edu/courses/cs312/2004fa/lectures/lecture15.htm\n",
        "\n",
        "        topo = []\n",
        "        #TODO find the right list of Value to be traversed\n",
        "        '''\n",
        "        Hint: you can recursively visit all non-visited node from the node calling backward.\n",
        "        add one node to the head of the list after all of its children node are visited\n",
        "        '''\n",
        "        # Using the recursive based approach\n",
        "        visited = set() # create a set to hold nodes\n",
        "        def generate_topo(v):\n",
        "          if v not in visited:\n",
        "            visited.add(v)\n",
        "            # Recursively visit all children\n",
        "            for child in v._prev:\n",
        "              generate_topo(child)\n",
        "            topo.append(v)\n",
        "\n",
        "        # Generate the topological order starting from the current node and reverse it for backprop\n",
        "        generate_topo(self); topo = topo[::-1];\n",
        "\n",
        "        #go one variable at a time and apply the chain rule to get its gradient\n",
        "        for v in topo:\n",
        "            v._backward()\n",
        "\n",
        "    # Stack-based (DFS) Approach - My initial style before seeing Kaparthy's. Both styles work well with pretty much the same efficiency.\n",
        "    # def backward(self):\n",
        "    #   self.grad = 1\n",
        "    #   topo = []\n",
        "    #   stack = [self]\n",
        "    #   visited = set()\n",
        "\n",
        "    #   while stack:\n",
        "    #       v = stack.pop()\n",
        "    #       if v not in visited:\n",
        "    #           visited.add(v)\n",
        "    #           topo.append(v)\n",
        "    #           for child in v._prev:\n",
        "    #               if child not in visited:\n",
        "    #                   stack.append(child)\n",
        "\n",
        "    #   topo = topo[::-1]\n",
        "\n",
        "    #   for v in topo:\n",
        "    #       v._backward()\n",
        "\n",
        "\n",
        "    # We handled the negation and reverse operations for you\n",
        "    def __neg__(self): # -self\n",
        "        \"\"\"\n",
        "        Negate the current Value\n",
        "        \"\"\"\n",
        "        return self * -1\n",
        "\n",
        "    def __radd__(self, other): #other + self\n",
        "        \"\"\"\n",
        "        Reverse addition operation (ordering matters in Python)\n",
        "        \"\"\"\n",
        "        return self + other\n",
        "\n",
        "    def __sub__(self, other): # self - other\n",
        "        \"\"\"\n",
        "        Subtraction operation\n",
        "        \"\"\"\n",
        "        return self + (-other)\n",
        "\n",
        "    def __rsub__(self, other): # other - self\n",
        "        \"\"\"\n",
        "        Reverse subtraction operation\n",
        "        \"\"\"\n",
        "        return other + (-self)\n",
        "\n",
        "    def __rmul__(self, other): # other * self\n",
        "        \"\"\"\n",
        "        Reverse multiplication operation\n",
        "        \"\"\"\n",
        "        return self * other\n",
        "\n",
        "    def __truediv__(self, other): # self / other\n",
        "        \"\"\"\n",
        "        Division operation\n",
        "        \"\"\"\n",
        "        return self * other**-1\n",
        "\n",
        "    def __rtruediv__(self, other): # other / self\n",
        "        \"\"\"\n",
        "        Reverse diction operation\n",
        "        \"\"\"\n",
        "        return other * self**-1\n",
        "\n",
        "    def __repr__(self):\n",
        "        \"\"\"\n",
        "        Class representation (instead of unfriendly memory address)\n",
        "        \"\"\"\n",
        "        return f\"Value(data={self.data}, grad={self.grad})\""
      ],
      "execution_count": null,
      "outputs": []
    },
    {
      "cell_type": "markdown",
      "metadata": {
        "id": "SWMte8xaeWpK"
      },
      "source": [
        "Now, we are going to use the simple example in q1.b to get you familar with the usage of this class.\n",
        "\n",
        "If your implementation is correct, you will get the same values and gradients as your hand-caculated ones.\n",
        "\n",
        "Be careful! Even you get this test case right, it does not guarantee the correctness of your implementation."
      ]
    },
    {
      "cell_type": "code",
      "metadata": {
        "id": "PeoL0WIL_sHD",
        "colab": {
          "base_uri": "https://localhost:8080/"
        },
        "outputId": "604f4198-13bb-4b63-8cfc-b6e8444d7a0c"
      },
      "source": [
        "## Initialize Example Values (From Written Assignment)\n",
        "\"\"\" NOTE: The original values did not match those in the assignment, so I replaced them with the values provided in hw2.pdf.\n",
        "    Additionally, I have developed a more sophisticated version of this assignment where the computational graph variables differ slightly.\n",
        "    However, I am submitting this version as it retains the original function input parameters without modification.\n",
        "\"\"\"\n",
        "# Weights w1, w2 of the 2D neuron -- a.k.a the synaptic strengths for each input\n",
        "w1 = Value(0.2)\n",
        "w2 = Value(0.4)\n",
        "# Input x1, x2 of the 2D neuron\n",
        "x1 = Value(-0.4)\n",
        "x2 = Value(0.5)\n",
        "\n",
        "#TODO\n",
        "#Do calculation for the question 1.b, and call backward to start backpropagation.\n",
        "# Bias of the neuron -- u = 0.5(w1**2 + w2**2)\n",
        "c1 = w1.__pow__(2)\n",
        "c2 = w2.__pow__(2)\n",
        "u = c1.__add__(c2)\n",
        "R = u.__mul__(0.5)\n",
        "\n",
        "# Generating the simgmoid --> sigmoid(w1x1 + w2x2)\n",
        "a1 = w1.__mul__(x1) # w1x1\n",
        "a2 = w2.__mul__(x2) # w2x2\n",
        "z = a1.__add__(a2) # a1 + a2\n",
        "# Sigmoid function: 1 / (1 + exp(-z))\n",
        "G = Value(1).__truediv__(Value(1).__add__(z.__neg__().exp()))\n",
        "\n",
        "# Computation of the output function -- f = R + G or f = G + R\n",
        "f = G.__add__(R)\n",
        "\n",
        "# Forward pass computations\n",
        "print(f\"The weights:\\nw1 = {w1.data}, w2 = {w2.data}\\n\")\n",
        "print(f\"The inputs:\\nx1 = {x1.data}, x2 = {x2.data}\\n\")\n",
        "print(\"Intermediate values:\")\n",
        "print(f\"c1 = {c1.data}\")\n",
        "print(f\"c2 = {c2.data}\")\n",
        "print(f\"a1 = {a1.data}\")\n",
        "print(f\"a2 = {a2.data}\")\n",
        "print(f\"u = {u.data}\")\n",
        "print(f\"z = {z.data}\")\n",
        "print(f\"R = {R.data}\")\n",
        "print(f\"G = {G.data}\\n\")\n",
        "print(f\"The output, f = {f.data}\")\n",
        "\n",
        "print(\"\\n***************************BACKWARD PASSES***************************\")\n",
        "#Then print out the gradient of w1 w2 x1 x2.\n",
        "# Questions says to include intermediate values for the backward passes as well\n",
        "f.backward()\n",
        "print(f\"The weights' gradients:\\nw1.grad = {w1.grad}, w2.grad = {w2.grad}\\n\")\n",
        "print(f\"The inputs' gradients:\\nx1.grad = {x1.grad}, x2.grad = {x2.grad}\\n\")\n",
        "print(\"Intermediate gradient values:\")\n",
        "print(f\"c1.grad = {c1.grad}\")\n",
        "print(f\"c2.grad = {c2.grad}\")\n",
        "print(f\"a1.grad = {a1.grad}\")\n",
        "print(f\"a2.grad = {a2.grad}\")\n",
        "print(f\"u.grad = {u.grad}\")\n",
        "print(f\"z.grad = {z.grad}\")\n",
        "print(f\"R.grad = {R.grad}\")\n",
        "print(f\"G.grad = {G.grad}\\n\")\n",
        "print(f\"The base 'upstream' gradient, f.grad = {f.grad}\")"
      ],
      "execution_count": null,
      "outputs": [
        {
          "output_type": "stream",
          "name": "stdout",
          "text": [
            "The weights:\n",
            "w1 = 0.2, w2 = 0.4\n",
            "\n",
            "The inputs:\n",
            "x1 = -0.4, x2 = 0.5\n",
            "\n",
            "Intermediate values:\n",
            "c1 = 0.04000000000000001\n",
            "c2 = 0.16000000000000003\n",
            "a1 = -0.08000000000000002\n",
            "a2 = 0.2\n",
            "u = 0.20000000000000004\n",
            "z = 0.12\n",
            "R = 0.10000000000000002\n",
            "G = 0.5299640517645717\n",
            "\n",
            "The output, f = 0.6299640517645717\n",
            "\n",
            "***************************BACKWARD PASSES***************************\n",
            "The weights' gradients:\n",
            "w1.grad = 0.10035913775925998, w2.grad = 0.524551077800925\n",
            "\n",
            "The inputs' gradients:\n",
            "x1.grad = 0.04982043112037002, x2.grad = 0.09964086224074004\n",
            "\n",
            "Intermediate gradient values:\n",
            "c1.grad = 0.5\n",
            "c2.grad = 0.5\n",
            "a1.grad = 0.2491021556018501\n",
            "a2.grad = 0.2491021556018501\n",
            "u.grad = 0.5\n",
            "z.grad = 0.2491021556018501\n",
            "R.grad = 1.0\n",
            "G.grad = 1.0\n",
            "\n",
            "The base 'upstream' gradient, f.grad = 1\n"
          ]
        }
      ]
    },
    {
      "cell_type": "markdown",
      "metadata": {
        "id": "oowriEHef1b7"
      },
      "source": [
        "## Question 3"
      ]
    },
    {
      "cell_type": "markdown",
      "metadata": {
        "id": "Lcv2k0PLg6wY"
      },
      "source": [
        "### Implementation of the linear layer\n",
        "You will implement a `LinearLayer` module here.\n",
        "\n",
        "We provide the initialization of the class `LinearLayer`. You need to implement the forward function -- Return the results - `out` with the shape `[n_samples, n_out_channels]` of a linear layer when the the data `x` shaped `[n_samples, n_in_channels]` is fed into it.\n"
      ]
    },
    {
      "cell_type": "code",
      "metadata": {
        "id": "NTHmcr7pLbU0"
      },
      "source": [
        "class Module:\n",
        "\n",
        "    \"\"\"\n",
        "    Base Model Module\n",
        "    \"\"\"\n",
        "\n",
        "    def parameters(self):\n",
        "        \"\"\"\n",
        "\n",
        "        \"\"\"\n",
        "        return []\n",
        "\n",
        "    def zero_grad(self):\n",
        "        \"\"\"\n",
        "\n",
        "        \"\"\"\n",
        "        for p in self.parameters():\n",
        "            p.grad = 0\n",
        "\n",
        "class LinearLayer(Module):\n",
        "\n",
        "    \"\"\"\n",
        "    Linear Layer\n",
        "    \"\"\"\n",
        "\n",
        "    def __init__(self, nin, nout):\n",
        "        \"\"\"\n",
        "        Here we randomly initilize the weights w as 2-dimensional list of Values\n",
        "        And b as 1-dimensional list of Values with value 0\n",
        "\n",
        "        You may use this stucture to implement the __call__ function\n",
        "        \"\"\"\n",
        "        self.w = []\n",
        "        for i in range(nin):\n",
        "            w_tmp = [Value(random.uniform(-1,1)) for j in range(nout)]\n",
        "            self.w.append(w_tmp)\n",
        "        self.b = [Value(0) for i in range(nout)]\n",
        "        self.nin = nin\n",
        "        self.nout = nout\n",
        "\n",
        "    def __call__(self, x):\n",
        "        \"\"\"\n",
        "        Args:\n",
        "            x (2d-list): Two dimensional list of Values with shape [batch_size , nin]\n",
        "\n",
        "        Returns:\n",
        "            xout (2d-list): Two dimensional list of Values with shape [batch_size, nout]\n",
        "        \"\"\"\n",
        "        #TODO implement this function and return the output of a linear layer.\n",
        "        batch_size = len(x) # The number of samples being processed in ||\n",
        "        x_out = [] # each out_i for n samples\n",
        "        for i in range(batch_size):\n",
        "          row_out = []\n",
        "          for j in range(self.nout):\n",
        "              # Compute the dot product Wx + b using zip\n",
        "              val = sum(x[i][k] * self.w[k][j] for k in range(self.nin)) + self.b[j]\n",
        "              # val = sum(x_val * w_val for x_val, w_val in zip(x[i], [self.w[k][j] for k in range(self.nin)])) + self.b[j]\n",
        "              row_out.append(val)\n",
        "          x_out.append(row_out)\n",
        "        return x_out\n",
        "\n",
        "\n",
        "    def parameters(self):\n",
        "        \"\"\"\n",
        "        Get the list of parameters in the Linear Layer\n",
        "\n",
        "        Args:\n",
        "            None\n",
        "\n",
        "        Returns:\n",
        "            params (list): List of parameters in the layer\n",
        "        \"\"\"\n",
        "        return [p for row in self.w for p in row] + [p for p in self.b]"
      ],
      "execution_count": null,
      "outputs": []
    },
    {
      "cell_type": "markdown",
      "metadata": {
        "id": "6gwYpbiRfoFH"
      },
      "source": [
        "Test your implementation of linear layer, the error should be nearly 0."
      ]
    },
    {
      "cell_type": "code",
      "metadata": {
        "id": "fHLnHUW-fydy",
        "colab": {
          "base_uri": "https://localhost:8080/"
        },
        "outputId": "9b8cb332-d557-4d89-a20e-9475d43331c7"
      },
      "source": [
        "## Initialization of Layer with Weights\n",
        "linear_model_test = LinearLayer(4, 4)\n",
        "linear_model_test.w = [[Value(data=0.7433570245252463), Value(data=-0.9662164096144394), Value(data=-0.17087204941322653), Value(data=-0.5186656374983067)],\n",
        "                       [Value(data=-0.1414882837892344), Value(data=-0.5898971049017006), Value(data=-0.3448340220492381), Value(data=0.5278833226346107)],\n",
        "                       [Value(data=0.3990701306597799), Value(data=-0.3319058654296163), Value(data=-0.784797384411202), Value(data=0.7603317495966846)],\n",
        "                       [Value(data=-0.5711035064293541), Value(data=-0.0001937643033362857), Value(data=0.12693226232877053), Value(data=-0.36044237239197097)]]\n",
        "linear_model_test.b = [Value(data=0), Value(data=0), Value(data=0), Value(data=0)]\n",
        "\n",
        "## Forward Pass\n",
        "x_test = [[-0.17120438454836173, -0.3736077734087335, -0.48495413054653214, 0.8269206715993096]]\n",
        "y_hat_test = linear_model_test(x_test)\n",
        "y_ref = [[Value(data=-0.7401928625441141), Value(data=0.5466095223360173), Value(data=0.6436403600545564), Value(data=-0.7752067527386406)]]\n",
        "\n",
        "## Error Calculation\n",
        "predict_error = 0\n",
        "for i in range(4):\n",
        "    predict_error += (y_hat_test[0][i] - y_ref[0][i])**2\n",
        "print(predict_error.data)"
      ],
      "execution_count": null,
      "outputs": [
        {
          "output_type": "stream",
          "name": "stdout",
          "text": [
            "0.0\n"
          ]
        }
      ]
    },
    {
      "cell_type": "markdown",
      "metadata": {
        "id": "IfSXiqRShoM1"
      },
      "source": [
        "### Implementation of Loss functions\n",
        "\n",
        "You will implement softmax, cross entropy loss, and accuracy here for further use"
      ]
    },
    {
      "cell_type": "code",
      "metadata": {
        "id": "KW_OLYJ_hhbY"
      },
      "source": [
        "def softmax(y_hat):\n",
        "    \"\"\"\n",
        "    Softmax computation\n",
        "\n",
        "    Args:\n",
        "        y_hat (2d-list): 2-dimensional list of Values with shape [batch_size, n_class]\n",
        "\n",
        "    Returns:\n",
        "        s (2d-list): 2-dimensional list of Values with the same shape as y_hat\n",
        "    \"\"\"\n",
        "    #TODO implement the softmax function and return the output.\n",
        "    # y_hat is the model's output logits (raw, unnormalized scores) for each class given here in the shape [batch size, # classes]\n",
        "\n",
        "    # We can implement two versions of this --> without numerical stability or with numerical stability\n",
        "    batch_size = len(y_hat) # The number of samples\n",
        "    n_class = len(y_hat[0]) # The number of classes in the classification problem\n",
        "    s = [] # An array to stack the pi (px_rows)\n",
        "\n",
        "    # We are just computing the probabilites per row and stacking them (s). Converting a vector of raw scores (logits) into a probability distribution.\n",
        "    for i in range(batch_size):\n",
        "      row = y_hat[i]\n",
        "      # Considering numerical stability\n",
        "      # max_ = max(x.data for x in row)\n",
        "      max_ = max(row, key=lambda x: x.data)\n",
        "      # numerator\n",
        "      exp_row = [Value.exp(x) for x in row] # TA wasn't sure x - max, and so I left it as x.\n",
        "      # denominator\n",
        "      exp_sum = sum(exp_row)\n",
        "      # Using the px (softmax) formula, we have:\n",
        "      px_row = [exp_x.__truediv__(exp_sum) for exp_x in exp_row] # put each probabilities into a 1 x c list. Can I just \"/\" here?\n",
        "      # s is the list of px\n",
        "      s.append(px_row) # s is a stack of px_row i.e. s = [px_row1; px_row2; px_rown]\n",
        "\n",
        "\n",
        "    return s"
      ],
      "execution_count": null,
      "outputs": []
    },
    {
      "cell_type": "code",
      "metadata": {
        "id": "9xdTC9Tym6sP"
      },
      "source": [
        "def cross_entropy_loss(y_hat, y):\n",
        "    \"\"\"\n",
        "    Cross-entropy Loss computation\n",
        "    Args:\n",
        "    y_hat (2d-list): Output from softmax function with shape [batch_size, n_class]\n",
        "    y (1d-list): List of ground truth label indices with shape [batch_size]\n",
        "    Returns:\n",
        "    loss (Value): Loss value of type Value\n",
        "    \"\"\"\n",
        "    # Applying the softmax to convert the logits into probabilities\n",
        "    y_hat_prob = softmax(y_hat)\n",
        "\n",
        "    batch_size = len(y) # Get the number of samples\n",
        "    losses = [] # Use this to store the L1, L2 ... Ln\n",
        "    eps_ = 1e-6  # Small epsilon to prevent log(0) by Mathias. Recommended 1e-4.\n",
        "\n",
        "    for i in range(batch_size):\n",
        "        true_class = y[i]  # y[i] is the index of the true class\n",
        "        py = y_hat_prob[i][true_class]   # Probability of the true class\n",
        "        loss_i = -Value.log(py + eps_)  # -log(pk + epsilon)\n",
        "        losses.append(loss_i)\n",
        "\n",
        "    # Compute average loss across the batch\n",
        "    total_loss = sum(losses)\n",
        "    avg_loss = total_loss * ( 1 / batch_size)\n",
        "\n",
        "    return avg_loss"
      ],
      "execution_count": null,
      "outputs": []
    },
    {
      "cell_type": "code",
      "metadata": {
        "id": "8jeK31K85qsB"
      },
      "source": [
        "def accuracy(y_hat, y):\n",
        "    \"\"\"\n",
        "    Accuracy computation\n",
        "\n",
        "    Args:\n",
        "        y_hat (2d-list): Output from linear function with shape [batch_size, n_class]\n",
        "        y (1d-list): List of ground truth labels with shape [batch_size, ]\n",
        "\n",
        "    Returns:\n",
        "        acc (float): Accuracy score\n",
        "    \"\"\"\n",
        "    #TODO implement the calculation of accuracy of the predicted y_hat w.r.t y.\n",
        "    # Info from : https://piazza.com/class/lzprt9h5dky7h8/post/66\n",
        "\n",
        "    # Get the vertical length of the array i.e. the batch size and the number of classes (col)\n",
        "    batch_size = len(y_hat)\n",
        "    n_class = len(y_hat[0])\n",
        "\n",
        "    correct_pred = 0 # Initialization of a counter to count the correct predictions\n",
        "\n",
        "    for i in range(batch_size):\n",
        "      # Finding the index of the class with the highest logit\n",
        "      pred_class = max(range(n_class), key=lambda j: y_hat[i][j].data)\n",
        "\n",
        "      # Check:\n",
        "      if pred_class == y[i]:\n",
        "        correct_pred += 1\n",
        "\n",
        "    # Computing the accuracy\n",
        "    accuracy = correct_pred / batch_size\n",
        "    return accuracy\n",
        "\n"
      ],
      "execution_count": null,
      "outputs": []
    },
    {
      "cell_type": "markdown",
      "metadata": {
        "id": "jti1kRlzf14E"
      },
      "source": [
        "Test the implementation of `softmax()` and `cross_entropy_loss()` as well as the gradient calculation of `Value` class. The errors should be nearly 0."
      ]
    },
    {
      "cell_type": "code",
      "metadata": {
        "id": "My_zbUj7gBLo",
        "colab": {
          "base_uri": "https://localhost:8080/"
        },
        "outputId": "6eb39b19-8ebb-4cff-d26e-6a159473e81d"
      },
      "source": [
        "## Ground Truth + Forward Pass\n",
        "y_gt = [1]\n",
        "y_hat_test = linear_model_test(x_test)\n",
        "\n",
        "## Softmax Calculation\n",
        "prob_test = softmax(y_hat_test)\n",
        "prob_ref = [[0.10441739448437284, 0.37811510516540814, 0.4166428991676558, 0.10082460118256342]]\n",
        "softmax_error = 0\n",
        "for i in range(4):\n",
        "    softmax_error += (prob_ref[0][i] - prob_test[0][i])**2\n",
        "print(softmax_error.data)\n",
        "\n",
        "## Cross Entropy Loss Calculation\n",
        "loss_test = cross_entropy_loss(y_hat_test, y_gt)\n",
        "loss_ref = Value(data=0.9725566186970217)\n",
        "print((loss_test - loss_ref).data)\n",
        "\n",
        "## Update Gradient Based on Loss\n",
        "linear_model_test.zero_grad()\n",
        "loss_test.backward()\n",
        "w_gradient_ref = [[-0.017876715758840547, 0.10646942068007896, -0.07133109112844363, -0.01726161379279479],\n",
        "                  [-0.0390111502584479, 0.23234103087567629, -0.1556610258645873, -0.03766885475264107],\n",
        "                  [-0.05063764675610328, 0.30158564847453107, -0.2020526949142369, -0.04889530680419089],\n",
        "                  [0.08634490197366762, -0.5142494748940867, 0.3445306259968013, 0.08337394692361787]]\n",
        "b_gradient_ref = [0.10441739448437282, -0.6218848948345919, 0.4166428991676557, 0.1008246011825634]\n",
        "\n",
        "## Compute Error\n",
        "w_gradient_error = 0\n",
        "b_gradient_error = 0\n",
        "for i in range(4):\n",
        "    b_gradient_error += (linear_model_test.b[i].grad - b_gradient_ref[i]) ** 2\n",
        "    for j in range(4):\n",
        "        w_gradient_error += (linear_model_test.w[i][j].grad - w_gradient_ref[i][j]) ** 2\n",
        "print(w_gradient_error)\n",
        "print(b_gradient_error)"
      ],
      "execution_count": null,
      "outputs": [
        {
          "output_type": "stream",
          "name": "stdout",
          "text": [
            "0.0\n",
            "-2.644693808839804e-06\n",
            "4.4238767512028326e-12\n",
            "4.066541549224466e-12\n"
          ]
        }
      ]
    },
    {
      "cell_type": "markdown",
      "metadata": {
        "id": "ovsoGs3_ljNC"
      },
      "source": [
        "Implement the following functions to visualize the ground truth and the decision boundary in the same figure."
      ]
    },
    {
      "cell_type": "code",
      "metadata": {
        "id": "B9kPT-caWUaw"
      },
      "source": [
        "def plot_points(X, Y, scale, n, data):\n",
        "    \"\"\"\n",
        "    Plot points in the visualization image\n",
        "    \"\"\"\n",
        "    points_color = [[0., 0. , 255.], [255., 0., 0.], [0., 255., 0.],[0., 0. , 0.]]\n",
        "\n",
        "    for i in range(X.shape[0]):\n",
        "        #TODO Assign a color to \"data\" according to the position and the label of X\n",
        "        # Ground truth consists of the actual data points (X and Y) where X contains coordinates of the points and Y contains the labels for each points\n",
        "        x, y = X[i] # extract the coordinates of the points\n",
        "        # Convert real coordinates to image coordinates\n",
        "        x_img = int((x + scale) * n / (2 * scale))\n",
        "        y_img = int((y + scale) * n / (2 * scale))\n",
        "        # Check bounds\n",
        "        if 0 <= x_img < n and 0 <= y_img < n:\n",
        "          label = int(Y[i]) # Retrieve the label for this particular point\n",
        "          data[y_img, x_img] = points_color[label] # maps the color based on the label\n",
        "    return data\n",
        "\n",
        "\n",
        "def plot_background(scale, n, model):\n",
        "    \"\"\"\n",
        "    Color the background in the visualization image\n",
        "    \"\"\"\n",
        "\n",
        "    background_color = [[0., 191., 255.], [255., 110., 180.], [202., 255., 112.],[156., 156., 156.]]\n",
        "\n",
        "    data = np.zeros((n,n,3), dtype='uint8')\n",
        "\n",
        "    for i in range(n):\n",
        "        x1 = -scale + 2 * scale / n * i\n",
        "        for j in range(n):\n",
        "            x2 = -scale + 2 * scale / n * j\n",
        "            input = [[Value(x1),Value(x2)]]\n",
        "            #TODO using the model to predict a class for the input and assign a color to \"data\" at this position.\n",
        "            output = model(input) # pass the input into the model\n",
        "            # Extract the numerical data from the Value objects\n",
        "            output_values = [o.data for o in output[0]]\n",
        "            # Get the predicted class based on the mac output\n",
        "            pred_class = output_values.index(max(output_values))\n",
        "            # Assigning the background color based on the predicted class\n",
        "            data[j, i] = background_color[pred_class]\n",
        "\n",
        "    return data\n",
        "\n",
        "\n",
        "def visualization(X, Y, model):\n",
        "    \"\"\"\n",
        "    Decision boundary visualization\n",
        "    \"\"\"\n",
        "    scale = 4.5  # the scale of X axis and Y axis. To say, x is from -scale to +scale\n",
        "    n = 300      # seperate the image into n*n pixels\n",
        "\n",
        "    data = plot_background (scale, n, model)\n",
        "    data = plot_points (X, Y, scale, n, data)\n",
        "\n",
        "    plt.imshow(data)\n",
        "    plt.axis('off')\n",
        "    plt.show()\n",
        "\n",
        "\n",
        "# \"\"\"\n",
        "# THIS IS NOT NECESSARY - I WAS CONFUSED A BIT HERE I THINK since I am still fairly new to python\n",
        "# The next thing is to look at the README.txt to understand the next requirement. The dataset is 2D --> This means it has 2 features and nin would be 2.\n",
        "# The dataset have 4 classes in total, which are denoted by 0, 1, 2, 3, in Y for each class (our guesses) --> This means it has four outputs and nout would be 4\n",
        "# \"\"\"\n",
        "# # Start by initializing the linear model\n",
        "# features = 2 # 2D\n",
        "# output = 4 # 4 classes\n",
        "# linear_model = LinearLayer(features, output)\n",
        "\n",
        "# # Loading the dataset\n",
        "# svpath = './Q3_data.npz'\n",
        "# data = np.load(svpath)\n",
        "# X = data['X'] # 100 samples, 2 features (2D)\n",
        "# Y = data['Y'] # Class labels (0, 1, 2, 3)\n",
        "\n",
        "# # Debug prints\n",
        "# print('Shape of X: ', X.shape)\n",
        "# print('Shape of Y: ', Y.shape)\n",
        "\n",
        "# # The visualization\n",
        "# visualization(X, Y, linear_model)"
      ],
      "execution_count": null,
      "outputs": []
    },
    {
      "cell_type": "markdown",
      "metadata": {
        "id": "RRJgvFM6Ob-V"
      },
      "source": [
        "if you implement the plot function correctly, you will get some image like:\n",
        "\n",
        "![download.png](data:image/png;base64,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)\n"
      ]
    },
    {
      "cell_type": "markdown",
      "metadata": {
        "id": "PaPMBVcZiVah"
      },
      "source": [
        "### Implementation of training procedure\n",
        "\n",
        "With input data `x`, ground_truth `y`, and `model` as parameters, implement the gradient descent method to train your model and plot loss and accuracy vs training iterations"
      ]
    },
    {
      "cell_type": "code",
      "metadata": {
        "id": "d9b1UnDTO12e"
      },
      "source": [
        "def train(x,\n",
        "          y,\n",
        "          model,\n",
        "          loss_function=cross_entropy_loss,\n",
        "          accuracy_function=accuracy,\n",
        "          max_iteration=500,\n",
        "          learning_rate=1):\n",
        "    \"\"\"\n",
        "    Args:\n",
        "       x (2-d list): List of Values with shape: [n_samples, n_channels]\n",
        "       y (1-d list): List of integers with shape: [n_samples]\n",
        "       model (Module): Linear model\n",
        "       loss_function (callable): Loss function to use during training\n",
        "       accuracy_function (callable): Function used for calculating training accuracy\n",
        "       max_iteration (int): Number of epochs to train model for\n",
        "       learning_rate (numeric): Step size of the gradient update\n",
        "    \"\"\"\n",
        "    for i in range(max_iteration):\n",
        "        #TODO compute y_hat and calculate the loss between y_hat and y as well as\n",
        "        # the accuracy of y_hat w.r.t y.\n",
        "        # Each iteration represents one step (or epoch) of the training process. Based on what functions we have create, we have:\n",
        "        y_hat = model(x) # This computes the outputs (logits) given an input data x. I think this is like the forward pass\n",
        "        loss = loss_function(y_hat, y) # This compute the softmax loss (cross entropy loss) -- so like y_hat->softmax->cross_entropy_loss\n",
        "        acc = accuracy_function(y_hat, y) # This computes the accuracy of the model's prediction agains the true labels\n",
        "\n",
        "        # Mathias tip to zero out the gradients from previous iteration\n",
        "        model.zero_grad()\n",
        "\n",
        "        # DO YOUR THING Backprop:\n",
        "        loss.backward()\n",
        "\n",
        "        #TODO Then You will need to calculate gradient for all parameters, and\n",
        "        #do gradient descent for all the parameters.\n",
        "        #The list of parameters can be easily obtained by calling\n",
        "        #model.parameters() which is implemented above.\n",
        "        for param in model.parameters():\n",
        "          param.data -= learning_rate * param.grad\n",
        "\n",
        "\n",
        "        #Then plot the loss / accuracy vs iterations.\n",
        "        if i % 20 == 19:\n",
        "            print(\"iteration\",i,\"loss:\",loss.data, \"accuracy:\",acc)\n",
        "        ## record loss\n",
        "        if i == 0 :\n",
        "        # initialize L\n",
        "            L = loss.data\n",
        "            A = acc\n",
        "        else:\n",
        "            L = np.append(L,loss.data)\n",
        "            A = np.append(A,acc)\n",
        "\n",
        "    ## Plot Loss and Accuracy\n",
        "    fig0=plt.figure(0)\n",
        "    plt.plot(L,'-')\n",
        "    plt.xlabel('Iteration', fontsize=18)\n",
        "    plt.ylabel('Loss', fontsize=16)\n",
        "    plt.show()\n",
        "    fig1=plt.figure(1)\n",
        "    plt.plot(A,'-')\n",
        "    plt.xlabel('Iteration', fontsize=18)\n",
        "    plt.ylabel('Accuracy', fontsize=16)\n",
        "    plt.show()\n"
      ],
      "execution_count": null,
      "outputs": []
    },
    {
      "cell_type": "markdown",
      "metadata": {
        "id": "h9p8QtQJjeAl"
      },
      "source": [
        "### Train the model\n",
        "\n",
        "Load the data, format it, instantiate your model and start training!"
      ]
    },
    {
      "cell_type": "code",
      "metadata": {
        "id": "pOHM_FgtoUyu",
        "colab": {
          "base_uri": "https://localhost:8080/",
          "height": 1000
        },
        "outputId": "d699226d-a013-4139-f74a-0479f74a4cd1"
      },
      "source": [
        "## Load Q3 Dataset\n",
        "datapath = './Q3_data.npz'\n",
        "data = np.load(datapath)\n",
        "\n",
        "## Load Data and Parse Shape Information\n",
        "X = data['X']\n",
        "Y = data['Y']\n",
        "print(X.shape, Y.shape, np.unique(Y))\n",
        "nin = X.shape[1]\n",
        "nout = np.max(Y) + 1\n",
        "\n",
        "## Initialize data using your Value class\n",
        "x = [[Value(v) for v in sample] for sample in X]\n",
        "y = [int(v) for v in Y]\n",
        "\n",
        "## Initialize a Linear Model\n",
        "linear_model = LinearLayer(nin, nout)\n",
        "\n",
        "## Train the Model using Your Data\n",
        "train(x, y, linear_model)"
      ],
      "execution_count": null,
      "outputs": [
        {
          "output_type": "stream",
          "name": "stdout",
          "text": [
            "(100, 2) (100,) [0 1 2 3]\n",
            "iteration 19 loss: 0.5720272950729679 accuracy: 0.95\n",
            "iteration 39 loss: 0.42025388693117466 accuracy: 0.96\n",
            "iteration 59 loss: 0.34913639832813415 accuracy: 0.97\n",
            "iteration 79 loss: 0.3054370617495872 accuracy: 0.98\n",
            "iteration 99 loss: 0.2750063783790085 accuracy: 0.98\n",
            "iteration 119 loss: 0.25220225129871376 accuracy: 0.99\n",
            "iteration 139 loss: 0.23426265806025032 accuracy: 0.99\n",
            "iteration 159 loss: 0.21965221191110698 accuracy: 0.99\n",
            "iteration 179 loss: 0.20743949659585614 accuracy: 0.99\n",
            "iteration 199 loss: 0.19702210420354818 accuracy: 0.99\n",
            "iteration 219 loss: 0.18799078788774679 accuracy: 0.99\n",
            "iteration 239 loss: 0.18005646689858115 accuracy: 0.99\n",
            "iteration 259 loss: 0.17300835296072603 accuracy: 0.99\n",
            "iteration 279 loss: 0.16668863419435417 accuracy: 0.99\n",
            "iteration 299 loss: 0.16097649421845756 accuracy: 0.99\n",
            "iteration 319 loss: 0.15577765267165836 accuracy: 0.99\n",
            "iteration 339 loss: 0.15101730565195712 accuracy: 1.0\n",
            "iteration 359 loss: 0.14663523292687494 accuracy: 1.0\n",
            "iteration 379 loss: 0.14258232765234094 accuracy: 1.0\n",
            "iteration 399 loss: 0.1388180845216309 accuracy: 1.0\n",
            "iteration 419 loss: 0.1353087485961726 accuracy: 1.0\n",
            "iteration 439 loss: 0.132025928911202 accuracy: 1.0\n",
            "iteration 459 loss: 0.12894554503357586 accuracy: 1.0\n",
            "iteration 479 loss: 0.12604701606994026 accuracy: 1.0\n",
            "iteration 499 loss: 0.12331262885621692 accuracy: 1.0\n"
          ]
        },
        {
          "output_type": "display_data",
          "data": {
            "text/plain": [
              "<Figure size 640x480 with 1 Axes>"
            ],
            "image/png": "[encoded data removed]"
          },
          "metadata": {}
        },
        {
          "output_type": "display_data",
          "data": {
            "text/plain": [
              "<Figure size 640x480 with 1 Axes>"
            ],
            "image/png": "[encoded data removed]"
          },
          "metadata": {}
        }
      ]
    },
    {
      "cell_type": "code",
      "metadata": {
        "id": "nEUUcgHEM6of",
        "colab": {
          "base_uri": "https://localhost:8080/",
          "height": 406
        },
        "outputId": "b80c976f-1629-4f76-aac3-7b4a43570583"
      },
      "source": [
        "## Visualize learned decision boundaries\n",
        "visualization(X, Y, linear_model)"
      ],
      "execution_count": null,
      "outputs": [
        {
          "output_type": "display_data",
          "data": {
            "text/plain": [
              "<Figure size 640x480 with 1 Axes>"
            ],
            "image/png": "[encoded data removed]"
          },
          "metadata": {}
        }
      ]
    },
    {
      "cell_type": "markdown",
      "metadata": {
        "id": "ctXkntnIkdjt"
      },
      "source": [
        "## Question 4"
      ]
    },
    {
      "cell_type": "markdown",
      "metadata": {
        "id": "GFoPi3NskoIh"
      },
      "source": [
        "### a) Is this dataset linear separable?\n",
        "load the dataset for this question and train a linear model on this dataset and report the performance"
      ]
    },
    {
      "cell_type": "code",
      "metadata": {
        "id": "N1BHFxm4Ix2c"
      },
      "source": [
        "## Load Q4 Dataset\n",
        "datapath = './Q4_data.npz'\n",
        "data = np.load(datapath)\n",
        "\n",
        "## Parse Data and Identify Dimensions\n",
        "X = data['X']\n",
        "Y = data['Y']\n",
        "nin = X.shape[1]\n",
        "nout = int(np.max(Y)) + 1\n",
        "\n",
        "## Initialize data using your value class\n",
        "x = [[Value(v) for v in sample] for sample in X]\n",
        "y = [int(v) for v in Y]"
      ],
      "execution_count": null,
      "outputs": []
    },
    {
      "cell_type": "code",
      "metadata": {
        "id": "qlFvA3CCS33X",
        "colab": {
          "base_uri": "https://localhost:8080/",
          "height": 1000
        },
        "outputId": "07de5900-16f1-4afd-d4fb-f20b7dd24647"
      },
      "source": [
        "## Initialize Linear Model\n",
        "linear_model = LinearLayer(nin, nout)\n",
        "\n",
        "## Train Model\n",
        "train(x, y, linear_model)"
      ],
      "execution_count": null,
      "outputs": [
        {
          "output_type": "stream",
          "name": "stdout",
          "text": [
            "iteration 19 loss: 0.3787234202885632 accuracy: 0.8\n",
            "iteration 39 loss: 0.35829764168103606 accuracy: 0.825\n",
            "iteration 59 loss: 0.3505407263247142 accuracy: 0.825\n",
            "iteration 79 loss: 0.3461724501035553 accuracy: 0.825\n",
            "iteration 99 loss: 0.34333071439421314 accuracy: 0.825\n",
            "iteration 119 loss: 0.3413405490816883 accuracy: 0.825\n",
            "iteration 139 loss: 0.3398821084041131 accuracy: 0.825\n",
            "iteration 159 loss: 0.3387801271342441 accuracy: 0.825\n",
            "iteration 179 loss: 0.3379290468062617 accuracy: 0.85\n",
            "iteration 199 loss: 0.33726082065619645 accuracy: 0.85\n",
            "iteration 219 loss: 0.3367293142626733 accuracy: 0.85\n",
            "iteration 239 loss: 0.33630204575274797 accuracy: 0.85\n",
            "iteration 259 loss: 0.3359554827352038 accuracy: 0.85\n",
            "iteration 279 loss: 0.3356721965949887 accuracy: 0.85\n",
            "iteration 299 loss: 0.3354390519660699 accuracy: 0.85\n",
            "iteration 319 loss: 0.33524600701747 accuracy: 0.85\n",
            "iteration 339 loss: 0.33508529225174755 accuracy: 0.85\n",
            "iteration 359 loss: 0.3349508336776048 accuracy: 0.85\n",
            "iteration 379 loss: 0.3348378391423293 accuracy: 0.85\n",
            "iteration 399 loss: 0.334742496604661 accuracy: 0.85\n",
            "iteration 419 loss: 0.3346617509205631 accuracy: 0.85\n",
            "iteration 439 loss: 0.33459313670111795 accuracy: 0.85\n",
            "iteration 459 loss: 0.334534651824438 accuracy: 0.85\n",
            "iteration 479 loss: 0.33448466080421285 accuracy: 0.85\n",
            "iteration 499 loss: 0.3344418203318237 accuracy: 0.85\n"
          ]
        },
        {
          "output_type": "display_data",
          "data": {
            "text/plain": [
              "<Figure size 640x480 with 1 Axes>"
            ],
            "image/png": "[encoded data removed]"
          },
          "metadata": {}
        },
        {
          "output_type": "display_data",
          "data": {
            "text/plain": [
              "<Figure size 640x480 with 1 Axes>"
            ],
            "image/png": "[encoded data removed]"
          },
          "metadata": {}
        }
      ]
    },
    {
      "cell_type": "code",
      "metadata": {
        "id": "8cFD2eQ2WWUQ",
        "colab": {
          "base_uri": "https://localhost:8080/",
          "height": 406
        },
        "outputId": "f853d60e-a968-48ec-d71c-02884a68e9be"
      },
      "source": [
        "## Visualize Learned Decision Boundary\n",
        "visualization(X, Y, linear_model)"
      ],
      "execution_count": null,
      "outputs": [
        {
          "output_type": "display_data",
          "data": {
            "text/plain": [
              "<Figure size 640x480 with 1 Axes>"
            ],
            "image/png": "[encoded data removed]"
          },
          "metadata": {}
        }
      ]
    },
    {
      "cell_type": "markdown",
      "metadata": {
        "id": "DYoFsdm0m18J"
      },
      "source": [
        "### b) Implementation of Multi Layer Perceptron (MLP)\n",
        "\n",
        "Implement a class `MLP` to add arbitrary layers. You will need to implement the forward function to return results `out` with `x` fed into the model."
      ]
    },
    {
      "cell_type": "code",
      "metadata": {
        "id": "ldxalUrYLOZW"
      },
      "source": [
        "class MLP(Module):\n",
        "\n",
        "    \"\"\"\n",
        "    Multi Layer Perceptron\n",
        "    \"\"\"\n",
        "    def __init__(self, dimensions):\n",
        "        \"\"\"\n",
        "        Initialize multiple layers here in the list named self.linear_layers\n",
        "        \"\"\"\n",
        "        assert isinstance(dimensions, list)\n",
        "        assert len(dimensions) > 2\n",
        "        self.linear_layers = []\n",
        "        for i in range(len(dimensions) - 1):\n",
        "            self.linear_layers.append(LinearLayer(dimensions[i], dimensions[i+1]))\n",
        "\n",
        "    def __call__(self, x):\n",
        "        \"\"\"\n",
        "        Args:\n",
        "            x (2d-list): Two dimensional list of Values with shape [batch_size , nin]\n",
        "\n",
        "        Returns:\n",
        "            xout (2d-list): Two dimensional list of Values with shape [batch_size, nout]\n",
        "        \"\"\"\n",
        "        #TODO Implement this function and return the output of a MLP\n",
        "        # Pass through each hidden layer and apply ReLU activation\n",
        "        for i in range(len(self.linear_layers) - 1):\n",
        "            x = self.linear_layers[i](x)\n",
        "\n",
        "            # Apply ReLU to each element of x, which is a 2D list of Values\n",
        "            x = [[val.relu() for val in row] for row in x]  # Apply relu() to each Value object\n",
        "\n",
        "\n",
        "        # For the output layer, we need to go back to using softmax\n",
        "        xout = self.linear_layers[-1](x)\n",
        "        xout = softmax(xout)\n",
        "        return xout\n",
        "\n",
        "    def parameters(self):\n",
        "        \"\"\"\n",
        "        Get the parameters of each layer\n",
        "\n",
        "        Args:\n",
        "            None\n",
        "\n",
        "        Returns:\n",
        "            params (list of Values): Parameters of the MLP\n",
        "        \"\"\"\n",
        "        return [p for layer in self.linear_layers for p in layer.parameters()]\n",
        "\n",
        "    def zero_grad(self):\n",
        "        \"\"\"\n",
        "        Zero out the gradient of each parameter\n",
        "        \"\"\"\n",
        "        for p in self.parameters():\n",
        "            p.grad = 0"
      ],
      "execution_count": null,
      "outputs": []
    },
    {
      "cell_type": "markdown",
      "metadata": {
        "id": "vrFd0boknj94"
      },
      "source": [
        "Train your MLP model and visualize the decision boundary with ground truth points."
      ]
    },
    {
      "cell_type": "code",
      "metadata": {
        "id": "H_zTwbDZQ4I4",
        "colab": {
          "base_uri": "https://localhost:8080/",
          "height": 1000
        },
        "outputId": "8026a5e1-8ca4-489a-9a04-d67d4dcafcc0"
      },
      "source": [
        "## Initialize MLP with Given Parameters\n",
        "mlp_model = MLP([nin, 40, nout])\n",
        "\n",
        "## Train the MLP\n",
        "train(x, y, mlp_model)"
      ],
      "execution_count": null,
      "outputs": [
        {
          "output_type": "stream",
          "name": "stdout",
          "text": [
            "iteration 19 loss: 1.063289505723595 accuracy: 0.675\n",
            "iteration 39 loss: 0.8758365733576281 accuracy: 0.9\n",
            "iteration 59 loss: 0.864761971380082 accuracy: 0.9\n",
            "iteration 79 loss: 0.8597916632579473 accuracy: 0.9\n",
            "iteration 99 loss: 0.8566872198585993 accuracy: 0.9\n",
            "iteration 119 loss: 0.8543027916080077 accuracy: 0.9\n",
            "iteration 139 loss: 0.8525271277718574 accuracy: 0.9\n",
            "iteration 159 loss: 0.8513016388527064 accuracy: 0.9\n",
            "iteration 179 loss: 0.8504192019094449 accuracy: 0.9\n",
            "iteration 199 loss: 0.849693613315778 accuracy: 0.9\n",
            "iteration 219 loss: 0.849093078028984 accuracy: 0.9\n",
            "iteration 239 loss: 0.848592994585959 accuracy: 0.9\n",
            "iteration 259 loss: 0.8481700339958431 accuracy: 0.9\n",
            "iteration 279 loss: 0.847806296383782 accuracy: 0.9\n",
            "iteration 299 loss: 0.8474915856573015 accuracy: 0.9\n",
            "iteration 319 loss: 0.8472165212421738 accuracy: 0.9\n",
            "iteration 339 loss: 0.8469749284146924 accuracy: 0.9\n",
            "iteration 359 loss: 0.8467607767790046 accuracy: 0.9\n",
            "iteration 379 loss: 0.8465707843664094 accuracy: 0.9\n",
            "iteration 399 loss: 0.8464004479997382 accuracy: 0.9\n",
            "iteration 419 loss: 0.8462473856176891 accuracy: 0.9\n",
            "iteration 439 loss: 0.8461075205194644 accuracy: 0.9\n",
            "iteration 459 loss: 0.8459803961401514 accuracy: 0.9\n",
            "iteration 479 loss: 0.8458646733739665 accuracy: 0.9\n",
            "iteration 499 loss: 0.8457589652727 accuracy: 0.9\n"
          ]
        },
        {
          "output_type": "display_data",
          "data": {
            "text/plain": [
              "<Figure size 640x480 with 1 Axes>"
            ],
            "image/png": "[encoded data removed]"
          },
          "metadata": {}
        },
        {
          "output_type": "display_data",
          "data": {
            "text/plain": [
              "<Figure size 640x480 with 1 Axes>"
            ],
            "image/png": "[encoded data removed]"
          },
          "metadata": {}
        }
      ]
    },
    {
      "cell_type": "code",
      "metadata": {
        "id": "sr2-BMquWPg_",
        "colab": {
          "base_uri": "https://localhost:8080/",
          "height": 406
        },
        "outputId": "e66042b6-4cc0-48ff-a2e9-d3a8b1f18905"
      },
      "source": [
        "## Visualize Decision Boundaries\n",
        "visualization(X, Y, mlp_model)\n",
        "\n",
        "# The time for this was 13 mins\n",
        "# Try printing the gradient for debugging -- if the gradient is close to zero, something must be wrong. TA verified logic of X -> Linear -> ReLU -> Linear -> Softmax"
      ],
      "execution_count": null,
      "outputs": [
        {
          "output_type": "display_data",
          "data": {
            "text/plain": [
              "<Figure size 640x480 with 1 Axes>"
            ],
            "image/png": "[encoded data removed]"
          },
          "metadata": {}
        }
      ]
    },
    {
      "cell_type": "markdown",
      "metadata": {
        "id": "GSoTfLFsau-Q"
      },
      "source": [
        "## Acknowledgement"
      ]
    },
    {
      "cell_type": "markdown",
      "metadata": {
        "id": "n9tFA4DZa4E6"
      },
      "source": [
        "The design of the auto grade structure are based on the work https://github.com/karpathy/micrograd"
      ]
    }
  ]
}